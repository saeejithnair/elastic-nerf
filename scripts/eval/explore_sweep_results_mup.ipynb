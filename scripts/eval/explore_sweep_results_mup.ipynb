{
 "cells": [
  {
   "cell_type": "code",
   "execution_count": 1,
   "metadata": {},
   "outputs": [],
   "source": [
    "import torch\n",
    "import matplotlib.pyplot as plt\n",
    "from pathlib import Path\n",
    "from elastic_nerf.utils import wandb_utils as wu\n",
    "from elastic_nerf.utils import results_utils as ru\n",
    "import pandas as pd\n",
    "from dataclasses import asdict\n",
    "import numpy as np\n",
    "import scienceplots\n",
    "\n",
    "plt.style.use([\"science\", \"ieee\"])"
   ]
  },
  {
   "cell_type": "markdown",
   "metadata": {},
   "source": [
    "# Baseline Benchmarking\n",
    "\n",
    "We have benchmarked the Nerfacc NGP Occ and Nerfacc Prop models with widths of 8, 16, 32, and 64 size hidden dimensions, for head MLPs in the Radiance field with hidden depth of 1 snd 2 layers. For each configuration, we rerun the experiment with 3 different seeds."
   ]
  },
  {
   "cell_type": "markdown",
   "metadata": {},
   "source": []
  }
 ],
 "metadata": {
  "kernelspec": {
   "display_name": "venv",
   "language": "python",
   "name": "python3"
  },
  "language_info": {
   "codemirror_mode": {
    "name": "ipython",
    "version": 3
   },
   "file_extension": ".py",
   "mimetype": "text/x-python",
   "name": "python",
   "nbconvert_exporter": "python",
   "pygments_lexer": "ipython3",
   "version": "3.10.12"
  }
 },
 "nbformat": 4,
 "nbformat_minor": 2
}
